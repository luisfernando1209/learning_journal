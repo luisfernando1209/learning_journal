{
 "cells": [
  {
   "cell_type": "markdown",
   "metadata": {},
   "source": [
    "# integer"
   ]
  },
  {
   "cell_type": "code",
   "execution_count": 1,
   "metadata": {},
   "outputs": [
    {
     "name": "stdout",
     "output_type": "stream",
     "text": [
      "2\n",
      "<class 'int'>\n"
     ]
    }
   ],
   "source": [
    "print(2)\n",
    "print(type(10))"
   ]
  },
  {
   "cell_type": "markdown",
   "metadata": {},
   "source": [
    "# float"
   ]
  },
  {
   "cell_type": "code",
   "execution_count": null,
   "metadata": {},
   "outputs": [],
   "source": [
    "print(1.2)\n",
    "print(type(1.2))\n",
    "print(.2)\n",
    "print(.3e2)"
   ]
  },
  {
   "cell_type": "code",
   "execution_count": null,
   "metadata": {},
   "outputs": [],
   "source": [
    "x = 2\n",
    "print(type(x))\n",
    "y = float(x)\n",
    "print(type(y))\n",
    "print(y)\n",
    "print(x)"
   ]
  },
  {
   "cell_type": "markdown",
   "metadata": {},
   "source": [
    "# string"
   ]
  },
  {
   "cell_type": "code",
   "execution_count": null,
   "metadata": {},
   "outputs": [],
   "source": [
    "print('hello \\nworld') # fungsi \\ ialah escape character\n",
    "\n",
    "print(\"hello wwowwwwwwwwwwwwwwwwwwwww\\\n",
    " world\") # fungsi \\ disini bisa jika yang kita tulis kepanjangan , tinggal kebawahin\n",
    "\n",
    "print('''hello\n",
    "uwwwwwwwwwow\n",
    "mantap banget\n",
    "''')"
   ]
  },
  {
   "cell_type": "code",
   "execution_count": null,
   "metadata": {},
   "outputs": [],
   "source": [
    "print('irfan' + '2') #concatenation\n",
    "print('irfan',2)"
   ]
  },
  {
   "cell_type": "markdown",
   "metadata": {},
   "source": [
    "# boolean"
   ]
  },
  {
   "cell_type": "code",
   "execution_count": null,
   "metadata": {},
   "outputs": [],
   "source": [
    "print(bool(''))"
   ]
  },
  {
   "cell_type": "markdown",
   "metadata": {},
   "source": [
    "# round"
   ]
  },
  {
   "cell_type": "code",
   "execution_count": null,
   "metadata": {},
   "outputs": [],
   "source": [
    "x = round(3.79)\n",
    "print(x)\n",
    "\n",
    "y = round(3.7978, 2)\n",
    "print(y)"
   ]
  },
  {
   "cell_type": "code",
   "execution_count": null,
   "metadata": {},
   "outputs": [],
   "source": [
    "x = 3.79\n",
    "print(int(x)) #integer pembulatannya ke bawah, beda seperti round tergantung koma"
   ]
  },
  {
   "cell_type": "markdown",
   "metadata": {},
   "source": [
    "# comment"
   ]
  },
  {
   "cell_type": "code",
   "execution_count": null,
   "metadata": {},
   "outputs": [],
   "source": [
    "# cara cepat jadiin comment ctrl+/\n",
    "# cetak kata 'irfan' -- tanda '#' adalah comment\n",
    "# comment yang lebih dari satu baris menggunakan '''\n",
    "'''comment ini bisa \n",
    "lebih dari satu\n",
    "line'''\n",
    "print('irfan')\n",
    "\n",
    "\n"
   ]
  },
  {
   "cell_type": "markdown",
   "metadata": {},
   "source": [
    "# variable"
   ]
  },
  {
   "cell_type": "code",
   "execution_count": null,
   "metadata": {},
   "outputs": [],
   "source": [
    "tinggi = 60\n",
    "print(tinggi) #case sensitive\n"
   ]
  },
  {
   "cell_type": "code",
   "execution_count": null,
   "metadata": {},
   "outputs": [],
   "source": [
    "_x = 3\n",
    "var_x = 3\n",
    "print(_x)"
   ]
  },
  {
   "cell_type": "code",
   "execution_count": null,
   "metadata": {},
   "outputs": [],
   "source": [
    "myVariableName = 'Camel Case'\n",
    "MyVariableName = 'Pascal'\n",
    "my_variable_name = 'snake_case'"
   ]
  },
  {
   "cell_type": "markdown",
   "metadata": {},
   "source": [
    "# escape character"
   ]
  },
  {
   "cell_type": "code",
   "execution_count": null,
   "metadata": {},
   "outputs": [],
   "source": [
    "txt ='hallo, \\'irfan\\', apa kabar?'\n",
    "print(txt)\n",
    "\n",
    "#atau cara lain\n",
    "\n",
    "txt2 = \"halo ,'irfan', apa kabar? \"\n",
    "print(txt2)\n",
    "\n",
    "txt1 = 'It\\'s a\\'ight'\n",
    "print(txt1)"
   ]
  },
  {
   "cell_type": "markdown",
   "metadata": {},
   "source": [
    "# List\n",
    "- Order\n",
    "- Changeable"
   ]
  },
  {
   "cell_type": "code",
   "execution_count": null,
   "metadata": {},
   "outputs": [],
   "source": [
    "list_kendaraan =['mobil','motor','sepeda','sepeda','becak','pesawat']\n",
    "print(\"List Kendaraan dalam keadaan normal: \")\n",
    "print(list_kendaraan)\n",
    "\n",
    "#Cara mengakses list\n",
    "print(list_kendaraan[0]) #mengacu kepada index ke 0\n",
    "print(list_kendaraan[1]) #mengacu kepada index ke 1\n",
    "\n",
    "#Mengakses beberapa di dalam list\n",
    "print(list_kendaraan[1:3])\n",
    "\n",
    "#Mengakses dari belakang\n",
    "print(list_kendaraan[-3])\n",
    "\n",
    "#Mengakses dengan ada loncat berapa\n",
    "print(list_kendaraan[1:5:2]) #[start:end:step]\n",
    "\n",
    "#Menambahkan data ke dalam list menggunakan fungsi insert & append\n",
    "list_kendaraan.insert(1,'gojek') #index,nama\n",
    "\n",
    "#Menambahkan data ke dalam list menggunakan append\n",
    "list_kendaraan.append(\"honda\")\n",
    "\n",
    "#Menghapus data ke dalam list menggunakan pop\n",
    "list_kendaraan.pop(1)\n",
    "print(list_kendaraan)\n",
    "\n",
    "#Mengubah data di dalam list menggunakan \n",
    "list_kendaraan_2 =['mobil','motor','sepeda','sepeda','becak','pesawat']\n",
    "myList = list_kendaraan_2.copy()\n",
    "myList[1] ='motor2'\n",
    "print(myList)\n",
    "print(list_kendaraan_2)"
   ]
  },
  {
   "cell_type": "markdown",
   "metadata": {},
   "source": [
    "# Tuple\n",
    "- Not changeable -- tidak bisa mengubah data\n",
    "- Sedikit mirip dengan list"
   ]
  },
  {
   "cell_type": "code",
   "execution_count": null,
   "metadata": {},
   "outputs": [],
   "source": [
    "tuple2 =('mobil','motor','sepeda','sepeda','becak','pesawat')\n",
    "print(tuple2)\n",
    "print(tuple2[3])"
   ]
  },
  {
   "cell_type": "code",
   "execution_count": null,
   "metadata": {},
   "outputs": [],
   "source": [
    "# Karena tuple tidak bisa ubah data, ada cara lainnya dengan mengganti tipe data terlebih dahulu\n",
    "tuple2 =('mobil','motor','sepeda','sepeda','becak','pesawat')\n",
    "y = list(tuple2) # dari tuple ke list\n",
    "y[1] = 'motor2'\n",
    "tuple2 = tuple(y) # ubah dari tuple 2 yang telah jadi list  ke tuple kembali\n",
    "print(tuple2)\n"
   ]
  },
  {
   "cell_type": "markdown",
   "metadata": {},
   "source": [
    "# Set\n",
    "- Tidak bs semua (diurutkan , diubah, penulisan mirip dictionary, tidak bisa duplikat)"
   ]
  },
  {
   "cell_type": "code",
   "execution_count": 61,
   "metadata": {},
   "outputs": [
    {
     "name": "stdout",
     "output_type": "stream",
     "text": [
      "{'becak', 'mobil', 'pesawat', 'sepeda', 'motor'}\n"
     ]
    }
   ],
   "source": [
    "myset = {'mobil','motor','sepeda','sepeda','becak','pesawat'}\n",
    "print(myset)\n"
   ]
  },
  {
   "cell_type": "markdown",
   "metadata": {},
   "source": [
    "# Dictionary"
   ]
  },
  {
   "cell_type": "code",
   "execution_count": 62,
   "metadata": {},
   "outputs": [
    {
     "name": "stdout",
     "output_type": "stream",
     "text": [
      "{'brand': 'Ford', 'model': 'Mustang', 'year': 1964}\n",
      "3\n"
     ]
    }
   ],
   "source": [
    "thisdict = {\n",
    "    'brand' : 'Ford',\n",
    "    'model' : 'Mustang',\n",
    "    'year' : 1964\n",
    "}\n",
    "\n",
    "print(thisdict)\n",
    "print(len(thisdict))"
   ]
  },
  {
   "cell_type": "code",
   "execution_count": 63,
   "metadata": {},
   "outputs": [
    {
     "name": "stdout",
     "output_type": "stream",
     "text": [
      "9\n"
     ]
    }
   ],
   "source": [
    "x = 'irfansyah'\n",
    "print(len(x)) #len untuk mengukur panjang data dalam variabel"
   ]
  },
  {
   "cell_type": "code",
   "execution_count": 64,
   "metadata": {},
   "outputs": [
    {
     "name": "stdout",
     "output_type": "stream",
     "text": [
      "Mustang\n"
     ]
    }
   ],
   "source": [
    "thisdict = {\n",
    "    'brand' : 'Ford',\n",
    "    'model' : 'Mustang',\n",
    "    'year' : 1964\n",
    "}\n",
    "x = thisdict['model']\n",
    "print(x)"
   ]
  },
  {
   "cell_type": "code",
   "execution_count": 65,
   "metadata": {},
   "outputs": [
    {
     "name": "stdout",
     "output_type": "stream",
     "text": [
      "dict_keys(['brand', 'model', 'year'])\n"
     ]
    }
   ],
   "source": [
    "x = thisdict.keys() #mengambil keys saja\n",
    "print(x)"
   ]
  },
  {
   "cell_type": "code",
   "execution_count": 66,
   "metadata": {},
   "outputs": [
    {
     "name": "stdout",
     "output_type": "stream",
     "text": [
      "dict_values(['Ford', 'Mustang', 1964])\n"
     ]
    }
   ],
   "source": [
    "x = thisdict.values()\n",
    "print(x)"
   ]
  },
  {
   "cell_type": "code",
   "execution_count": 67,
   "metadata": {},
   "outputs": [
    {
     "name": "stdout",
     "output_type": "stream",
     "text": [
      "dict_items([('brand', 'Ford'), ('model', 'Mustang'), ('year', 1964)])\n"
     ]
    }
   ],
   "source": [
    "x = thisdict.items()\n",
    "print(x)"
   ]
  },
  {
   "cell_type": "code",
   "execution_count": 68,
   "metadata": {},
   "outputs": [
    {
     "name": "stdout",
     "output_type": "stream",
     "text": [
      "{'brand': 'Honda', 'model': 'Mustang', 'year': 1964}\n"
     ]
    }
   ],
   "source": [
    "thisdict['brand'] = 'Honda'\n",
    "print(thisdict)"
   ]
  },
  {
   "cell_type": "code",
   "execution_count": 69,
   "metadata": {},
   "outputs": [
    {
     "name": "stdout",
     "output_type": "stream",
     "text": [
      "{'brand': 'Honda', 'model': 'Mustang', 'year': 1964, 'color': 'yellow'}\n"
     ]
    }
   ],
   "source": [
    "thisdict['color'] = 'yellow'\n",
    "print(thisdict)"
   ]
  },
  {
   "cell_type": "code",
   "execution_count": 70,
   "metadata": {},
   "outputs": [
    {
     "name": "stdout",
     "output_type": "stream",
     "text": [
      "{'brand': 'Honda', 'model': 'Mustang', 'year': 1964}\n"
     ]
    }
   ],
   "source": [
    "thisdict.pop('color')\n",
    "print(thisdict)"
   ]
  }
 ],
 "metadata": {
  "interpreter": {
   "hash": "3bd9e1803757a9f6b64d1a38fb31ad1020db98b4ae520118c762ef56afaef919"
  },
  "kernelspec": {
   "display_name": "Python 3.9.7 ('base')",
   "language": "python",
   "name": "python3"
  },
  "language_info": {
   "codemirror_mode": {
    "name": "ipython",
    "version": 3
   },
   "file_extension": ".py",
   "mimetype": "text/x-python",
   "name": "python",
   "nbconvert_exporter": "python",
   "pygments_lexer": "ipython3",
   "version": "3.9.7"
  },
  "orig_nbformat": 4
 },
 "nbformat": 4,
 "nbformat_minor": 2
}
