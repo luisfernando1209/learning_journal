{
 "cells": [
  {
   "cell_type": "markdown",
   "metadata": {},
   "source": [
    "**Using this template**\n",
    "\n",
    "1. Change notebook title to assignment title you working on, eg. `Graded Challenge 1 or Milestone 1`\n",
    "2. Put your identity such as name and batch number below notebook title.\n",
    "3. Write your description before do any work. State your purpose of this assignment and what you are trying to achieve. \n",
    "4. Look at the rubric of this assignment and make sure you understand the criteria.\n",
    "5. Code your solution in the cell provided below the working area section.\n",
    "6. State your conlusions, findings, and any other relevant information in the cell provided below the conclusions sections.\n",
    "7. Save this notebook and rename it to assignment title you working on  eg. `Graded Challenge 1 or Milestone 1`\n",
    "8. Push your assignment before deadline.\n",
    "9. Good Luck!"
   ]
  },
  {
   "cell_type": "markdown",
   "metadata": {},
   "source": [
    "# Graded Challenge 1\n",
    "\n",
    "Luis Fernando - FTDS Batch 10"
   ]
  },
  {
   "cell_type": "markdown",
   "metadata": {},
   "source": [
    "## Description\n",
    "\n",
    "### Objective\n",
    "\n",
    "Mencari hambatan / daya sesuai dengan syarat yang telah ditentukan\n",
    "Mencari rata - rata nilai kapasitas berdasarkan syarat yang telah ditentukan\n",
    "\n",
    "### Problem Statement\n",
    "\n",
    "Belum ada hambatan / daya yang tersedia, maka perlu kita cari dahulu dan masukkan ke dalam tabel nantinya"
   ]
  },
  {
   "cell_type": "markdown",
   "metadata": {},
   "source": [
    "## Working Area\n"
   ]
  },
  {
   "cell_type": "markdown",
   "metadata": {},
   "source": [
    "#### Data Loading"
   ]
  },
  {
   "cell_type": "markdown",
   "metadata": {},
   "source": [
    "Pertama kita import terlebih dahulu pandas agar dapat membaca file excel, membaca, hingga memanipulasi serta aggregasi ke dalam sebuah tabel"
   ]
  },
  {
   "cell_type": "code",
   "execution_count": 1,
   "metadata": {},
   "outputs": [],
   "source": [
    "import pandas as pd"
   ]
  },
  {
   "cell_type": "markdown",
   "metadata": {},
   "source": [
    "Setelah kita mencoba import pandas, kita coba terlebih dahulu untuk meloading / membuka file , dan pastikan file yang dibuka berisi data - data yang diperlukan"
   ]
  },
  {
   "cell_type": "code",
   "execution_count": 2,
   "metadata": {},
   "outputs": [
    {
     "data": {
      "text/html": [
       "<div>\n",
       "<style scoped>\n",
       "    .dataframe tbody tr th:only-of-type {\n",
       "        vertical-align: middle;\n",
       "    }\n",
       "\n",
       "    .dataframe tbody tr th {\n",
       "        vertical-align: top;\n",
       "    }\n",
       "\n",
       "    .dataframe thead th {\n",
       "        text-align: right;\n",
       "    }\n",
       "</style>\n",
       "<table border=\"1\" class=\"dataframe\">\n",
       "  <thead>\n",
       "    <tr style=\"text-align: right;\">\n",
       "      <th></th>\n",
       "      <th>time(s)</th>\n",
       "      <th>V_m</th>\n",
       "      <th>Current (A)</th>\n",
       "      <th>Cycle</th>\n",
       "      <th>Cap</th>\n",
       "    </tr>\n",
       "  </thead>\n",
       "  <tbody>\n",
       "    <tr>\n",
       "      <th>0</th>\n",
       "      <td>0</td>\n",
       "      <td>4.098</td>\n",
       "      <td>0.997</td>\n",
       "      <td>1</td>\n",
       "      <td>2.840817</td>\n",
       "    </tr>\n",
       "    <tr>\n",
       "      <th>1</th>\n",
       "      <td>1</td>\n",
       "      <td>4.096</td>\n",
       "      <td>0.998</td>\n",
       "      <td>1</td>\n",
       "      <td>2.840817</td>\n",
       "    </tr>\n",
       "    <tr>\n",
       "      <th>2</th>\n",
       "      <td>2</td>\n",
       "      <td>4.094</td>\n",
       "      <td>0.999</td>\n",
       "      <td>1</td>\n",
       "      <td>2.840817</td>\n",
       "    </tr>\n",
       "    <tr>\n",
       "      <th>3</th>\n",
       "      <td>3</td>\n",
       "      <td>4.093</td>\n",
       "      <td>0.998</td>\n",
       "      <td>1</td>\n",
       "      <td>2.840817</td>\n",
       "    </tr>\n",
       "    <tr>\n",
       "      <th>4</th>\n",
       "      <td>4</td>\n",
       "      <td>4.092</td>\n",
       "      <td>0.999</td>\n",
       "      <td>1</td>\n",
       "      <td>2.840817</td>\n",
       "    </tr>\n",
       "    <tr>\n",
       "      <th>...</th>\n",
       "      <td>...</td>\n",
       "      <td>...</td>\n",
       "      <td>...</td>\n",
       "      <td>...</td>\n",
       "      <td>...</td>\n",
       "    </tr>\n",
       "    <tr>\n",
       "      <th>90977</th>\n",
       "      <td>90977</td>\n",
       "      <td>2.506</td>\n",
       "      <td>1.002</td>\n",
       "      <td>9</td>\n",
       "      <td>2.770180</td>\n",
       "    </tr>\n",
       "    <tr>\n",
       "      <th>90978</th>\n",
       "      <td>90978</td>\n",
       "      <td>2.504</td>\n",
       "      <td>1.002</td>\n",
       "      <td>9</td>\n",
       "      <td>2.770180</td>\n",
       "    </tr>\n",
       "    <tr>\n",
       "      <th>90979</th>\n",
       "      <td>90979</td>\n",
       "      <td>2.502</td>\n",
       "      <td>1.002</td>\n",
       "      <td>9</td>\n",
       "      <td>2.770180</td>\n",
       "    </tr>\n",
       "    <tr>\n",
       "      <th>90980</th>\n",
       "      <td>90980</td>\n",
       "      <td>2.500</td>\n",
       "      <td>1.002</td>\n",
       "      <td>9</td>\n",
       "      <td>2.770180</td>\n",
       "    </tr>\n",
       "    <tr>\n",
       "      <th>90981</th>\n",
       "      <td>90981</td>\n",
       "      <td>2.497</td>\n",
       "      <td>1.002</td>\n",
       "      <td>9</td>\n",
       "      <td>2.770180</td>\n",
       "    </tr>\n",
       "  </tbody>\n",
       "</table>\n",
       "<p>90982 rows × 5 columns</p>\n",
       "</div>"
      ],
      "text/plain": [
       "       time(s)    V_m  Current (A)  Cycle       Cap\n",
       "0            0  4.098        0.997      1  2.840817\n",
       "1            1  4.096        0.998      1  2.840817\n",
       "2            2  4.094        0.999      1  2.840817\n",
       "3            3  4.093        0.998      1  2.840817\n",
       "4            4  4.092        0.999      1  2.840817\n",
       "...        ...    ...          ...    ...       ...\n",
       "90977    90977  2.506        1.002      9  2.770180\n",
       "90978    90978  2.504        1.002      9  2.770180\n",
       "90979    90979  2.502        1.002      9  2.770180\n",
       "90980    90980  2.500        1.002      9  2.770180\n",
       "90981    90981  2.497        1.002      9  2.770180\n",
       "\n",
       "[90982 rows x 5 columns]"
      ]
     },
     "execution_count": 2,
     "metadata": {},
     "output_type": "execute_result"
    }
   ],
   "source": [
    "df = pd.read_excel('NMC1-9.xlsx')\n",
    "df"
   ]
  },
  {
   "cell_type": "markdown",
   "metadata": {},
   "source": [
    "Karena saya tidak tahu apakah data lengkap atau tidak (meskipun bisa dilihat juga via excel nya langsung):\n",
    "- Kita coba cek melalui .info() tentang detail untuk masing - masing kolom  serta ;\n",
    "- Melihat apakah ada baris yang kosong melalui hasil jumlah baris yang tidak kosong pada masing - masing kolom"
   ]
  },
  {
   "cell_type": "code",
   "execution_count": 3,
   "metadata": {},
   "outputs": [
    {
     "name": "stdout",
     "output_type": "stream",
     "text": [
      "<class 'pandas.core.frame.DataFrame'>\n",
      "RangeIndex: 90982 entries, 0 to 90981\n",
      "Data columns (total 5 columns):\n",
      " #   Column       Non-Null Count  Dtype  \n",
      "---  ------       --------------  -----  \n",
      " 0   time(s)      90982 non-null  int64  \n",
      " 1   V_m          90982 non-null  float64\n",
      " 2   Current (A)  90982 non-null  float64\n",
      " 3   Cycle        90982 non-null  int64  \n",
      " 4   Cap          90982 non-null  float64\n",
      "dtypes: float64(3), int64(2)\n",
      "memory usage: 3.5 MB\n"
     ]
    }
   ],
   "source": [
    "df.info()"
   ]
  },
  {
   "cell_type": "markdown",
   "metadata": {},
   "source": [
    "Tabel terlihat aman , sehingga bisa langsung ke pemanfaatan tabel saja"
   ]
  },
  {
   "cell_type": "markdown",
   "metadata": {},
   "source": [
    "Karena saya merasa menggunakan nama kolom kuat arus cukup menyulitkan saya karena ada spasi di dalamnya (tidak bisa untuk menulis parameter dalam function):\n",
    "- Maka saya mencoba mengganti namanya dulu menjadi KuatArus"
   ]
  },
  {
   "cell_type": "code",
   "execution_count": 4,
   "metadata": {},
   "outputs": [],
   "source": [
    "df.rename(columns={'Current (A)':'KuatArus'},inplace=True)\n"
   ]
  },
  {
   "cell_type": "markdown",
   "metadata": {},
   "source": [
    "Setelah mengganti nama , saya mencoba memeriksa kembali agar kolom 'Current (A)' , sudah terganti namanya menjadi 'KuatArus'"
   ]
  },
  {
   "cell_type": "code",
   "execution_count": 5,
   "metadata": {},
   "outputs": [
    {
     "name": "stdout",
     "output_type": "stream",
     "text": [
      "<class 'pandas.core.frame.DataFrame'>\n",
      "RangeIndex: 90982 entries, 0 to 90981\n",
      "Data columns (total 5 columns):\n",
      " #   Column    Non-Null Count  Dtype  \n",
      "---  ------    --------------  -----  \n",
      " 0   time(s)   90982 non-null  int64  \n",
      " 1   V_m       90982 non-null  float64\n",
      " 2   KuatArus  90982 non-null  float64\n",
      " 3   Cycle     90982 non-null  int64  \n",
      " 4   Cap       90982 non-null  float64\n",
      "dtypes: float64(3), int64(2)\n",
      "memory usage: 3.5 MB\n"
     ]
    }
   ],
   "source": [
    "df.info()"
   ]
  },
  {
   "cell_type": "markdown",
   "metadata": {},
   "source": [
    "### Function Implementation"
   ]
  },
  {
   "cell_type": "markdown",
   "metadata": {},
   "source": [
    "Membuat function : code di bawah ini adalah salah satu proses untuk membuat function yang :\n",
    "- hitungHambatan merupakan function untuk menghitung besarnya hambatan dari masing - masing baris data , \n",
    "- dengan mengalikan (*) antara V_m (sebagai tegangan) dan KuatArus sebagai kuat arus "
   ]
  },
  {
   "cell_type": "code",
   "execution_count": 6,
   "metadata": {},
   "outputs": [],
   "source": [
    "#Membuat fungsi R (Hambatan)\n",
    "def hitungHambatan(V_m,KuatArus):\n",
    "    hambatan = V_m/KuatArus\n",
    "    return hambatan\n",
    "\n",
    "#Membuat fungsi P(Daya)\n",
    "def hitungDaya(V_m,KuatArus):\n",
    "    daya = V_m * KuatArus\n",
    "    return daya\n",
    "    "
   ]
  },
  {
   "cell_type": "markdown",
   "metadata": {},
   "source": [
    "### Looping Implementation -- Conditional If Implementation"
   ]
  },
  {
   "cell_type": "markdown",
   "metadata": {},
   "source": [
    "Setelah kita membuat function , langkah selanjutnya adalah memanfaatkan function di atas, untuk menghitung :\n",
    "- Jika sebuah baris memiliki kapasitas >= 2.5 , maka kita coba hitung daya nya\n",
    "- Jika sebuah baris memiliki kapasitas < 2.5 ,maka kita coba hitung hambatan nya"
   ]
  },
  {
   "cell_type": "code",
   "execution_count": 7,
   "metadata": {},
   "outputs": [],
   "source": [
    "#Menggunakan dataframe copy ,agar df aslinya saat dibuka dapat melihat yang kondisi df yang normal \n",
    "dfnew = df.copy()\n",
    "#Membuat list baru rp = [] untuk menyimpan secara sementara hasil dari perhitungan daya dan hambatan sebelum list nya menjadi sebuah kolom baru bernama 'R/P'\n",
    "rp =[]\n",
    "\n",
    "#Inisiasi j=0 disini , akan menyimpan (rp.append) pada index yang sama dengan dfnew['Cap'] sesuai urutan index nya\n",
    "j=0\n",
    "for i in dfnew['Cap']:\n",
    "    #Memeriksa apakah kapasitas >=2.5 ? Hitung daya, jika <2.5 , hitung Hambatan\n",
    "    if i >= 2.5 :\n",
    "        rp.append(hitungDaya(dfnew['V_m'][j],dfnew['KuatArus'][j]))\n",
    "    else :\n",
    "        rp.append(hitungHambatan(dfnew['V_m'][j],dfnew['KuatArus'][j]))\n",
    "    j+=1\n",
    "\n",
    "#Memasukkan list rp yang telah berisi angka dari masing - masing kalkulasi, menjadi kolom baru bernama 'R/P'\n",
    "dfnew['R/P']=rp\n",
    "        \n"
   ]
  },
  {
   "cell_type": "markdown",
   "metadata": {},
   "source": [
    "Setelah itu , saya coba periksa apakah sudah ada kolom R/P di dalam dfnew"
   ]
  },
  {
   "cell_type": "code",
   "execution_count": 8,
   "metadata": {},
   "outputs": [
    {
     "data": {
      "text/html": [
       "<div>\n",
       "<style scoped>\n",
       "    .dataframe tbody tr th:only-of-type {\n",
       "        vertical-align: middle;\n",
       "    }\n",
       "\n",
       "    .dataframe tbody tr th {\n",
       "        vertical-align: top;\n",
       "    }\n",
       "\n",
       "    .dataframe thead th {\n",
       "        text-align: right;\n",
       "    }\n",
       "</style>\n",
       "<table border=\"1\" class=\"dataframe\">\n",
       "  <thead>\n",
       "    <tr style=\"text-align: right;\">\n",
       "      <th></th>\n",
       "      <th>time(s)</th>\n",
       "      <th>V_m</th>\n",
       "      <th>KuatArus</th>\n",
       "      <th>Cycle</th>\n",
       "      <th>Cap</th>\n",
       "      <th>R/P</th>\n",
       "    </tr>\n",
       "  </thead>\n",
       "  <tbody>\n",
       "    <tr>\n",
       "      <th>0</th>\n",
       "      <td>0</td>\n",
       "      <td>4.098</td>\n",
       "      <td>0.997</td>\n",
       "      <td>1</td>\n",
       "      <td>2.840817</td>\n",
       "      <td>4.085706</td>\n",
       "    </tr>\n",
       "    <tr>\n",
       "      <th>1</th>\n",
       "      <td>1</td>\n",
       "      <td>4.096</td>\n",
       "      <td>0.998</td>\n",
       "      <td>1</td>\n",
       "      <td>2.840817</td>\n",
       "      <td>4.087808</td>\n",
       "    </tr>\n",
       "    <tr>\n",
       "      <th>2</th>\n",
       "      <td>2</td>\n",
       "      <td>4.094</td>\n",
       "      <td>0.999</td>\n",
       "      <td>1</td>\n",
       "      <td>2.840817</td>\n",
       "      <td>4.089906</td>\n",
       "    </tr>\n",
       "    <tr>\n",
       "      <th>3</th>\n",
       "      <td>3</td>\n",
       "      <td>4.093</td>\n",
       "      <td>0.998</td>\n",
       "      <td>1</td>\n",
       "      <td>2.840817</td>\n",
       "      <td>4.084814</td>\n",
       "    </tr>\n",
       "    <tr>\n",
       "      <th>4</th>\n",
       "      <td>4</td>\n",
       "      <td>4.092</td>\n",
       "      <td>0.999</td>\n",
       "      <td>1</td>\n",
       "      <td>2.840817</td>\n",
       "      <td>4.087908</td>\n",
       "    </tr>\n",
       "    <tr>\n",
       "      <th>...</th>\n",
       "      <td>...</td>\n",
       "      <td>...</td>\n",
       "      <td>...</td>\n",
       "      <td>...</td>\n",
       "      <td>...</td>\n",
       "      <td>...</td>\n",
       "    </tr>\n",
       "    <tr>\n",
       "      <th>90977</th>\n",
       "      <td>90977</td>\n",
       "      <td>2.506</td>\n",
       "      <td>1.002</td>\n",
       "      <td>9</td>\n",
       "      <td>2.770180</td>\n",
       "      <td>2.511012</td>\n",
       "    </tr>\n",
       "    <tr>\n",
       "      <th>90978</th>\n",
       "      <td>90978</td>\n",
       "      <td>2.504</td>\n",
       "      <td>1.002</td>\n",
       "      <td>9</td>\n",
       "      <td>2.770180</td>\n",
       "      <td>2.509008</td>\n",
       "    </tr>\n",
       "    <tr>\n",
       "      <th>90979</th>\n",
       "      <td>90979</td>\n",
       "      <td>2.502</td>\n",
       "      <td>1.002</td>\n",
       "      <td>9</td>\n",
       "      <td>2.770180</td>\n",
       "      <td>2.507004</td>\n",
       "    </tr>\n",
       "    <tr>\n",
       "      <th>90980</th>\n",
       "      <td>90980</td>\n",
       "      <td>2.500</td>\n",
       "      <td>1.002</td>\n",
       "      <td>9</td>\n",
       "      <td>2.770180</td>\n",
       "      <td>2.505000</td>\n",
       "    </tr>\n",
       "    <tr>\n",
       "      <th>90981</th>\n",
       "      <td>90981</td>\n",
       "      <td>2.497</td>\n",
       "      <td>1.002</td>\n",
       "      <td>9</td>\n",
       "      <td>2.770180</td>\n",
       "      <td>2.501994</td>\n",
       "    </tr>\n",
       "  </tbody>\n",
       "</table>\n",
       "<p>90982 rows × 6 columns</p>\n",
       "</div>"
      ],
      "text/plain": [
       "       time(s)    V_m  KuatArus  Cycle       Cap       R/P\n",
       "0            0  4.098     0.997      1  2.840817  4.085706\n",
       "1            1  4.096     0.998      1  2.840817  4.087808\n",
       "2            2  4.094     0.999      1  2.840817  4.089906\n",
       "3            3  4.093     0.998      1  2.840817  4.084814\n",
       "4            4  4.092     0.999      1  2.840817  4.087908\n",
       "...        ...    ...       ...    ...       ...       ...\n",
       "90977    90977  2.506     1.002      9  2.770180  2.511012\n",
       "90978    90978  2.504     1.002      9  2.770180  2.509008\n",
       "90979    90979  2.502     1.002      9  2.770180  2.507004\n",
       "90980    90980  2.500     1.002      9  2.770180  2.505000\n",
       "90981    90981  2.497     1.002      9  2.770180  2.501994\n",
       "\n",
       "[90982 rows x 6 columns]"
      ]
     },
     "execution_count": 8,
     "metadata": {},
     "output_type": "execute_result"
    }
   ],
   "source": [
    "dfnew"
   ]
  },
  {
   "cell_type": "markdown",
   "metadata": {},
   "source": [
    "### Pandas Query Implementation"
   ]
  },
  {
   "cell_type": "markdown",
   "metadata": {},
   "source": [
    "#### Mencari rata - rata nilai kapasitas pada baris yang memiliki\n",
    "- Arus 1 Ampere\n",
    "- Cycle nya adalah angka ganjil (1,3,5,7,9,.. dst)"
   ]
  },
  {
   "cell_type": "markdown",
   "metadata": {},
   "source": [
    " Pertama, saya langsung coba - coba apakah bisa langsung mencari mean dengan syarat yang telah ditentukan :"
   ]
  },
  {
   "cell_type": "code",
   "execution_count": 9,
   "metadata": {},
   "outputs": [
    {
     "data": {
      "text/plain": [
       "2.8064845553925855"
      ]
     },
     "execution_count": 9,
     "metadata": {},
     "output_type": "execute_result"
    }
   ],
   "source": [
    "# Menghitung rata - rata nilai kapasitas dengan syarat : arus 1 ampere dan cycle ganjil\n",
    "# Tes Pertama, hitung mean dari query kapasitas yang arus 1 amper dan cycle ganjil \n",
    "dfnew[\n",
    "    (dfnew['KuatArus']==1)&\n",
    "    (dfnew['Cycle']%2 != 0)\n",
    "]['Cap'].mean()\n",
    "\n"
   ]
  },
  {
   "cell_type": "markdown",
   "metadata": {},
   "source": [
    "Setelah mean telah tertampil , saya coba kembali dengan cara lain untuk memastikan bahwa mean merupakan mean dari kapasitas yang syaratnya spt di atas"
   ]
  },
  {
   "cell_type": "code",
   "execution_count": 10,
   "metadata": {},
   "outputs": [
    {
     "data": {
      "text/plain": [
       "15       2.840817\n",
       "19       2.840817\n",
       "20       2.840817\n",
       "21       2.840817\n",
       "31       2.840817\n",
       "           ...   \n",
       "90909    2.770180\n",
       "90923    2.770180\n",
       "90937    2.770180\n",
       "90949    2.770180\n",
       "90967    2.770180\n",
       "Name: Cap, Length: 6830, dtype: float64"
      ]
     },
     "execution_count": 10,
     "metadata": {},
     "output_type": "execute_result"
    }
   ],
   "source": [
    "# Tes kedua, coba select dulu kapasitas mana saja yang kuat arus 1 dan cycle ganjil, baru cari mean dari hasil tsb\n",
    "dfmean = dfnew[\n",
    "    (dfnew['KuatArus']==1)&\n",
    "    (dfnew['Cycle']%2 != 0)\n",
    "]['Cap']\n",
    "\n",
    "dfmean"
   ]
  },
  {
   "cell_type": "markdown",
   "metadata": {},
   "source": [
    "Setelah di atas muncul kapasitas yang benar - benar hanya kuat arus 1 dan cycle berangka ganjil (dengan nama dfmean) ,saya coba cari meannya dari dfmean di atas"
   ]
  },
  {
   "cell_type": "code",
   "execution_count": 11,
   "metadata": {},
   "outputs": [
    {
     "data": {
      "text/plain": [
       "2.8064845553925855"
      ]
     },
     "execution_count": 11,
     "metadata": {},
     "output_type": "execute_result"
    }
   ],
   "source": [
    "dfmean.mean()"
   ]
  },
  {
   "cell_type": "markdown",
   "metadata": {},
   "source": [
    "Ternyata, hasil dari tes pertama dan kedua sama . Sehingga mean dari kapasitas yang memiliki kuat arus = 1 dan cycle berangka ganjil adalah 2,806..."
   ]
  },
  {
   "cell_type": "markdown",
   "metadata": {},
   "source": [
    "## Conclusions, Assumptions, Overall Analysis\n",
    "\n",
    "Dari analisa di atas , langkah yang saya ambil adalah :\n",
    "- Memastikan bahwa file excel dapat dibaca\n",
    "- Mengganti nama kolom menjadi KuatArus agar dapat dimasukkan ke function\n",
    "- Membuat function berdasarkan cara hitung daya dan hambatan \n",
    "- Memanfaatkan function untuk membuat sebuah data baru , yang kemudian hasil hitungan disimpan terlebih dahulu ke dalam list , sebelum list nya di masukkan ke dalam sebuah kolom baru\n",
    "- Menghitung mean dengan 2 uji coba (agar tidak salah), yaitu langsung mencari mean dengan syarat yang telah ditentukan, dan mencari kapasitasnya dulu dengan syarat dan diinisialisasi dengan nama dfmean , baru dfmean tersebut saya coba cari rata - rata nya untuk dilihat apakah hasilnya sama dengan uji coba pertama"
   ]
  }
 ],
 "metadata": {
  "interpreter": {
   "hash": "3bd9e1803757a9f6b64d1a38fb31ad1020db98b4ae520118c762ef56afaef919"
  },
  "kernelspec": {
   "display_name": "Python 3.9.7 ('base')",
   "language": "python",
   "name": "python3"
  },
  "language_info": {
   "codemirror_mode": {
    "name": "ipython",
    "version": 3
   },
   "file_extension": ".py",
   "mimetype": "text/x-python",
   "name": "python",
   "nbconvert_exporter": "python",
   "pygments_lexer": "ipython3",
   "version": "3.9.7"
  },
  "orig_nbformat": 4
 },
 "nbformat": 4,
 "nbformat_minor": 2
}
