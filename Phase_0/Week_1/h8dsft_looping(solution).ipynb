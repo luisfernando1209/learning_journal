{
 "cells": [
  {
   "cell_type": "code",
   "execution_count": null,
   "metadata": {},
   "outputs": [],
   "source": [
    "numbers = [951, 402, 984, 651, 360, 69, 408,\n",
    " 319, 601, 485, 980, 507, 725, 547, 544, 615, 83, 165, \n",
    " 141, 501, 263, 617, 865, 575, 219, 390, 984, 592, 236,\n",
    "  105, 942, 941, 386, 462, 47, 418, 907, 344, 236, 375, \n",
    "  823, 566, 597, 978, 328, 615, 953, 345, 399, 162, 758,\n",
    "   219, 918, 237, 412, 566, 826, 248, 866, 950, 626, 949]\n",
    "\n",
    "for item in numbers:\n",
    "    if item % 2 == 0:\n",
    "        print(item)\n",
    "    if item == 918:\n",
    "        break\n",
    "print(\"Done sampe 918 kan?\")\n",
    "    "
   ]
  }
 ],
 "metadata": {
  "interpreter": {
   "hash": "3bd9e1803757a9f6b64d1a38fb31ad1020db98b4ae520118c762ef56afaef919"
  },
  "kernelspec": {
   "display_name": "Python 3.9.7 ('base')",
   "language": "python",
   "name": "python3"
  },
  "language_info": {
   "codemirror_mode": {
    "name": "ipython",
    "version": 3
   },
   "file_extension": ".py",
   "mimetype": "text/x-python",
   "name": "python",
   "nbconvert_exporter": "python",
   "pygments_lexer": "ipython3",
   "version": "3.9.7"
  },
  "orig_nbformat": 4
 },
 "nbformat": 4,
 "nbformat_minor": 2
}
