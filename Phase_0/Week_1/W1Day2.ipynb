{
 "cells": [
  {
   "cell_type": "markdown",
   "metadata": {},
   "source": [
    "# Conditional and Looping"
   ]
  },
  {
   "cell_type": "markdown",
   "metadata": {},
   "source": [
    "## Conditional"
   ]
  },
  {
   "cell_type": "code",
   "execution_count": null,
   "metadata": {},
   "outputs": [],
   "source": [
    "angka = 46\n",
    "print(\"{} lebih besar dari 30\".format(angka)) # bisa menggunakan format ini atau baris selanjutnya\n",
    "print(f\"{angka} lebih besar dari 30\")"
   ]
  },
  {
   "cell_type": "code",
   "execution_count": null,
   "metadata": {},
   "outputs": [],
   "source": [
    "angka = 25\n",
    "if angka > 30 :\n",
    "    print(f\"{angka} lebih besar dari 30\")\n",
    "elif angka == 30 :\n",
    "    print(f\"{angka} sama dengan 30\")\n",
    "else :\n",
    "    print(f\"{angka} kurang dari 30\")"
   ]
  },
  {
   "cell_type": "code",
   "execution_count": null,
   "metadata": {},
   "outputs": [],
   "source": [
    "#cek memeriksa apakah angka yang berada di variabel angka adalah bilangan ganjil / genap ?\n",
    "\n",
    "angka = 12\n",
    "if angka % 2 == 0:\n",
    "    print(f\"{angka} merupakan bilangan genap\")\n",
    "else:\n",
    "    print(f\"{angka} merupakan bilangan ganjil\")"
   ]
  },
  {
   "cell_type": "code",
   "execution_count": null,
   "metadata": {},
   "outputs": [],
   "source": [
    "bahasa_pemrograman = [\"python\",\"java\",\"javascript\",\"golang\"]\n",
    "\n",
    "bahasa = \"html\"\n",
    "\n",
    "if bahasa in bahasa_pemrograman:\n",
    "    print(f\"{bahasa} ada dalam list bahasa_pemrograman\")\n",
    "\n",
    "else :\n",
    "    print(f\"{bahasa} tidak ada dalam list bahasa_pemrograman\")"
   ]
  },
  {
   "cell_type": "code",
   "execution_count": null,
   "metadata": {},
   "outputs": [],
   "source": [
    "biodata = {'nama':'Luis','pekerjaan':'mahasiswa','usia': 21}\n",
    "\n",
    "21 in biodata.values()"
   ]
  },
  {
   "cell_type": "code",
   "execution_count": null,
   "metadata": {},
   "outputs": [],
   "source": [
    "angka = 15\n",
    "\n",
    "if angka%2 !=0 :\n",
    "    print(f\"{angka} adalah bilangan ganjil\")\n",
    "    if angka > 10 :\n",
    "        print(f\"{angka} lebih besar dari 10\")\n",
    "    elif angka == 10 :\n",
    "            print(f\"{angka} sama dengan 10\")\n",
    "    else :\n",
    "            print(f\"{angka} kurang dari 10\")\n",
    "else :\n",
    "    print(f\"{angka} adalah bilangan gelap\")\n",
    "\n"
   ]
  },
  {
   "cell_type": "code",
   "execution_count": null,
   "metadata": {},
   "outputs": [],
   "source": [
    "inputAngka = int(input(\"Input nilai guru: \"))\n",
    "if inputAngka >= 85 and inputAngka <= 100:\n",
    "    print(f\"{inputAngka} pantas mendapat nilai A\")\n",
    "elif inputAngka >= 70 and inputAngka <85:\n",
    "    print(f\"{inputAngka} pantas mendapat nilai B\")\n",
    "elif inputAngka >=50 and inputAngka <70:\n",
    "    print(f\"{inputAngka} pantas mendapat nilai C\")\n",
    "elif inputAngka >=25 and inputAngka <50:\n",
    "    print(f\"{inputAngka} pantas mendapat nilai D\")\n",
    "elif inputAngka >= 0 and inputAngka <25:\n",
    "    print(f\"{inputAngka} pantas mendapat nilai E\")\n",
    "else :\n",
    "    print(\"Angka tidak boleh negatif/ lebih dari 100 !!!\")"
   ]
  },
  {
   "cell_type": "code",
   "execution_count": null,
   "metadata": {},
   "outputs": [],
   "source": [
    "angka = 15\n",
    "\n",
    "if 0 <= angka <= 100:\n",
    "    if angka >= 85 :\n",
    "        print(\"A\")\n",
    "    elif angka >=70 :\n",
    "        print(\"B\")\n",
    "    elif angka >=50 :\n",
    "        print(\"C\")\n",
    "    elif angka >=25 :\n",
    "        print(\"D\")\n",
    "    else :\n",
    "        print(\"E\")\n",
    "else :\n",
    "    print(\"Nilai tidak valid\")\n"
   ]
  },
  {
   "cell_type": "markdown",
   "metadata": {},
   "source": [
    "## Looping"
   ]
  },
  {
   "cell_type": "code",
   "execution_count": null,
   "metadata": {},
   "outputs": [],
   "source": [
    "i = 0\n",
    "while i<5 :\n",
    "    i+=1\n",
    "    print(f\"Mulai dari angka {i}\")"
   ]
  },
  {
   "cell_type": "code",
   "execution_count": null,
   "metadata": {},
   "outputs": [],
   "source": [
    "i = 1\n",
    "while i<=10:\n",
    "    print(f\"7 x {i} = {7*i}\")\n",
    "    i += 1"
   ]
  },
  {
   "cell_type": "markdown",
   "metadata": {},
   "source": [
    "### Nested Loop (Tabel Perkalian)"
   ]
  },
  {
   "cell_type": "code",
   "execution_count": null,
   "metadata": {},
   "outputs": [],
   "source": [
    "i = 1\n",
    "j = 1\n",
    "#targetnya j*i\n",
    "\n",
    "while j <= 10 :\n",
    "    #bisa juga di posisi ini i = 1 nya. Tidak harus di paling bawah\n",
    "    while i <=10:\n",
    "        print(f\"{j} x {i} = {j*i}\")\n",
    "        i += 1\n",
    "    print(\"*\"*20)\n",
    "    j += 1\n",
    "    i = 1\n",
    "\n"
   ]
  },
  {
   "cell_type": "code",
   "execution_count": null,
   "metadata": {},
   "outputs": [],
   "source": [
    "#fungsi break\n",
    "i = 1\n",
    "while i<=10:\n",
    "    print(f\"7 x {i} = {7*i}\")\n",
    "    i += 1\n",
    "    if i == 5:\n",
    "        break"
   ]
  },
  {
   "cell_type": "code",
   "execution_count": null,
   "metadata": {},
   "outputs": [],
   "source": [
    "pesanan = []\n",
    "while True:\n",
    "    pesan = input(\"Masukkan Pesanan Anda :\")\n",
    "    if pesan == 'cukup':\n",
    "        break\n",
    "    pesanan.append(pesan)\n",
    "print(pesanan)\n",
    "    "
   ]
  },
  {
   "cell_type": "code",
   "execution_count": 54,
   "metadata": {},
   "outputs": [
    {
     "name": "stdout",
     "output_type": "stream",
     "text": [
      "7 x 1 = 7\n",
      "7 x 2 = 14\n",
      "7 x 3 = 21\n",
      "7 x 4 = 28\n",
      "7 x 6 = 42\n",
      "7 x 7 = 49\n",
      "7 x 8 = 56\n",
      "7 x 9 = 63\n",
      "7 x 10 = 70\n",
      "7 x 11 = 77\n"
     ]
    }
   ],
   "source": [
    "#fungsi continue-- untuk mengskip code di bawah tulisan continuenya\n",
    "\n",
    "i = 0\n",
    "while i<=10:\n",
    "    i+=1\n",
    "    if i == 5:\n",
    "        continue\n",
    "    print(f\"7 x {i} = {7*i}\")\n",
    "    \n",
    "\n",
    "\n",
    "        \n"
   ]
  },
  {
   "cell_type": "markdown",
   "metadata": {},
   "source": [
    "## For Loop"
   ]
  },
  {
   "cell_type": "code",
   "execution_count": 55,
   "metadata": {},
   "outputs": [
    {
     "name": "stdout",
     "output_type": "stream",
     "text": [
      "pepaya\n",
      "mangga\n",
      "pisang\n",
      "jambu\n"
     ]
    }
   ],
   "source": [
    "buah = [\"pepaya\",\"mangga\",\"pisang\",\"jambu\"]\n",
    "for item in buah:\n",
    "    print(item)"
   ]
  },
  {
   "cell_type": "code",
   "execution_count": 56,
   "metadata": {},
   "outputs": [
    {
     "name": "stdout",
     "output_type": "stream",
     "text": [
      "pepaya\n",
      "mangga\n",
      "pisang\n",
      "jambu\n"
     ]
    }
   ],
   "source": [
    "i = 0\n",
    "buah = [\"pepaya\",\"mangga\",\"pisang\",\"jambu\"]\n",
    "while i < len(buah):\n",
    "    print(buah[i])\n",
    "    i+=1"
   ]
  },
  {
   "cell_type": "code",
   "execution_count": 57,
   "metadata": {},
   "outputs": [
    {
     "name": "stdout",
     "output_type": "stream",
     "text": [
      "pepaya adalah item di dalam list\n",
      "mangga adalah item di dalam list\n",
      "pisang adalah item di dalam list\n",
      "jambu adalah item di dalam list\n",
      "pepaya adalah item di dalam list\n",
      "mangga adalah item di dalam list\n",
      "pisang adalah item di dalam list\n",
      "jambu adalah item di dalam list\n"
     ]
    },
    {
     "data": {
      "text/plain": [
       "range(0, 4)"
      ]
     },
     "execution_count": 57,
     "metadata": {},
     "output_type": "execute_result"
    }
   ],
   "source": [
    "for i in range(len(buah)):\n",
    "    print(f\"{buah[i]} adalah item di dalam list\")\n",
    "\n",
    "#syntax for di atas sama seperti\n",
    "for i in list(range(len(buah))):\n",
    "    print(f\"{buah[i]} adalah item di dalam list\")\n",
    "\n",
    "#karena di list(range(len(buah))) isinya :\n",
    "list(range(len(buah)))\n",
    "range(len(buah))"
   ]
  },
  {
   "cell_type": "code",
   "execution_count": 58,
   "metadata": {},
   "outputs": [
    {
     "data": {
      "text/plain": [
       "[1, 2, 3, 4, 5, 6, 7, 8, 9]"
      ]
     },
     "execution_count": 58,
     "metadata": {},
     "output_type": "execute_result"
    }
   ],
   "source": [
    "list(range(1,10))"
   ]
  },
  {
   "cell_type": "code",
   "execution_count": 59,
   "metadata": {},
   "outputs": [
    {
     "name": "stdout",
     "output_type": "stream",
     "text": [
      "1 x 7 = 7\n",
      "2 x 7 = 14\n",
      "3 x 7 = 21\n",
      "4 x 7 = 28\n",
      "5 x 7 = 35\n",
      "6 x 7 = 42\n",
      "7 x 7 = 49\n",
      "8 x 7 = 56\n",
      "9 x 7 = 63\n",
      "10 x 7 = 70\n"
     ]
    }
   ],
   "source": [
    "for i in range(1,11):\n",
    "    print(f\"{i} x 7 = {i*7}\")"
   ]
  },
  {
   "cell_type": "code",
   "execution_count": 60,
   "metadata": {},
   "outputs": [
    {
     "name": "stdout",
     "output_type": "stream",
     "text": [
      "i=1,j=1||1 * 1 = 1\n",
      "i=1,j=2||1 * 2 = 2\n",
      "i=1,j=3||1 * 3 = 3\n",
      "i=1,j=4||1 * 4 = 4\n",
      "i=1,j=5||1 * 5 = 5\n",
      "i=1,j=6||1 * 6 = 6\n",
      "i=1,j=7||1 * 7 = 7\n",
      "i=1,j=8||1 * 8 = 8\n",
      "i=1,j=9||1 * 9 = 9\n",
      "i=1,j=10||1 * 10 = 10\n",
      "**********\n",
      "i=2,j=1||2 * 1 = 2\n",
      "i=2,j=2||2 * 2 = 4\n",
      "i=2,j=3||2 * 3 = 6\n",
      "i=2,j=4||2 * 4 = 8\n",
      "i=2,j=5||2 * 5 = 10\n",
      "i=2,j=6||2 * 6 = 12\n",
      "i=2,j=7||2 * 7 = 14\n",
      "i=2,j=8||2 * 8 = 16\n",
      "i=2,j=9||2 * 9 = 18\n",
      "i=2,j=10||2 * 10 = 20\n",
      "**********\n",
      "i=3,j=1||3 * 1 = 3\n",
      "i=3,j=2||3 * 2 = 6\n",
      "i=3,j=3||3 * 3 = 9\n",
      "i=3,j=4||3 * 4 = 12\n",
      "i=3,j=5||3 * 5 = 15\n",
      "i=3,j=6||3 * 6 = 18\n",
      "i=3,j=7||3 * 7 = 21\n",
      "i=3,j=8||3 * 8 = 24\n",
      "i=3,j=9||3 * 9 = 27\n",
      "i=3,j=10||3 * 10 = 30\n",
      "**********\n",
      "i=4,j=1||4 * 1 = 4\n",
      "i=4,j=2||4 * 2 = 8\n",
      "i=4,j=3||4 * 3 = 12\n",
      "i=4,j=4||4 * 4 = 16\n",
      "i=4,j=5||4 * 5 = 20\n",
      "i=4,j=6||4 * 6 = 24\n",
      "i=4,j=7||4 * 7 = 28\n",
      "i=4,j=8||4 * 8 = 32\n",
      "i=4,j=9||4 * 9 = 36\n",
      "i=4,j=10||4 * 10 = 40\n",
      "**********\n",
      "i=5,j=1||5 * 1 = 5\n",
      "i=5,j=2||5 * 2 = 10\n",
      "i=5,j=3||5 * 3 = 15\n",
      "i=5,j=4||5 * 4 = 20\n",
      "i=5,j=5||5 * 5 = 25\n",
      "i=5,j=6||5 * 6 = 30\n",
      "i=5,j=7||5 * 7 = 35\n",
      "i=5,j=8||5 * 8 = 40\n",
      "i=5,j=9||5 * 9 = 45\n",
      "i=5,j=10||5 * 10 = 50\n",
      "**********\n",
      "i=6,j=1||6 * 1 = 6\n",
      "i=6,j=2||6 * 2 = 12\n",
      "i=6,j=3||6 * 3 = 18\n",
      "i=6,j=4||6 * 4 = 24\n",
      "i=6,j=5||6 * 5 = 30\n",
      "i=6,j=6||6 * 6 = 36\n",
      "i=6,j=7||6 * 7 = 42\n",
      "i=6,j=8||6 * 8 = 48\n",
      "i=6,j=9||6 * 9 = 54\n",
      "i=6,j=10||6 * 10 = 60\n",
      "**********\n",
      "i=7,j=1||7 * 1 = 7\n",
      "i=7,j=2||7 * 2 = 14\n",
      "i=7,j=3||7 * 3 = 21\n",
      "i=7,j=4||7 * 4 = 28\n",
      "i=7,j=5||7 * 5 = 35\n",
      "i=7,j=6||7 * 6 = 42\n",
      "i=7,j=7||7 * 7 = 49\n",
      "i=7,j=8||7 * 8 = 56\n",
      "i=7,j=9||7 * 9 = 63\n",
      "i=7,j=10||7 * 10 = 70\n",
      "**********\n",
      "i=8,j=1||8 * 1 = 8\n",
      "i=8,j=2||8 * 2 = 16\n",
      "i=8,j=3||8 * 3 = 24\n",
      "i=8,j=4||8 * 4 = 32\n",
      "i=8,j=5||8 * 5 = 40\n",
      "i=8,j=6||8 * 6 = 48\n",
      "i=8,j=7||8 * 7 = 56\n",
      "i=8,j=8||8 * 8 = 64\n",
      "i=8,j=9||8 * 9 = 72\n",
      "i=8,j=10||8 * 10 = 80\n",
      "**********\n",
      "i=9,j=1||9 * 1 = 9\n",
      "i=9,j=2||9 * 2 = 18\n",
      "i=9,j=3||9 * 3 = 27\n",
      "i=9,j=4||9 * 4 = 36\n",
      "i=9,j=5||9 * 5 = 45\n",
      "i=9,j=6||9 * 6 = 54\n",
      "i=9,j=7||9 * 7 = 63\n",
      "i=9,j=8||9 * 8 = 72\n",
      "i=9,j=9||9 * 9 = 81\n",
      "i=9,j=10||9 * 10 = 90\n",
      "**********\n",
      "i=10,j=1||10 * 1 = 10\n",
      "i=10,j=2||10 * 2 = 20\n",
      "i=10,j=3||10 * 3 = 30\n",
      "i=10,j=4||10 * 4 = 40\n",
      "i=10,j=5||10 * 5 = 50\n",
      "i=10,j=6||10 * 6 = 60\n",
      "i=10,j=7||10 * 7 = 70\n",
      "i=10,j=8||10 * 8 = 80\n",
      "i=10,j=9||10 * 9 = 90\n",
      "i=10,j=10||10 * 10 = 100\n",
      "**********\n"
     ]
    }
   ],
   "source": [
    "#Nested Loop Dengan For\n",
    "for i in range(1,11):\n",
    "    for j in range(1,11):\n",
    "        print(f\"i={i},j={j}||{i} * {j} = {i*j}\")\n",
    "    print(\"*\"*10)"
   ]
  },
  {
   "cell_type": "code",
   "execution_count": 61,
   "metadata": {},
   "outputs": [
    {
     "name": "stdout",
     "output_type": "stream",
     "text": [
      "1 x 7 = 7\n",
      "2 x 7 = 14\n",
      "3 x 7 = 21\n",
      "4 x 7 = 28\n",
      "6 x 7 = 42\n",
      "7 x 7 = 49\n",
      "8 x 7 = 56\n",
      "9 x 7 = 63\n",
      "10 x 7 = 70\n"
     ]
    }
   ],
   "source": [
    "for i in range(1,11):\n",
    "    if i == 5:\n",
    "        continue\n",
    "    print(f\"{i} x 7 = {i*7}\")"
   ]
  }
 ],
 "metadata": {
  "interpreter": {
   "hash": "3bd9e1803757a9f6b64d1a38fb31ad1020db98b4ae520118c762ef56afaef919"
  },
  "kernelspec": {
   "display_name": "Python 3.9.7 ('base')",
   "language": "python",
   "name": "python3"
  },
  "language_info": {
   "codemirror_mode": {
    "name": "ipython",
    "version": 3
   },
   "file_extension": ".py",
   "mimetype": "text/x-python",
   "name": "python",
   "nbconvert_exporter": "python",
   "pygments_lexer": "ipython3",
   "version": "3.9.7"
  },
  "orig_nbformat": 4
 },
 "nbformat": 4,
 "nbformat_minor": 2
}
