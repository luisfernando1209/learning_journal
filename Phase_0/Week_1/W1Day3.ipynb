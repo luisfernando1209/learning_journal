{
 "cells": [
  {
   "cell_type": "markdown",
   "metadata": {},
   "source": [
    "## Function"
   ]
  },
  {
   "cell_type": "code",
   "execution_count": null,
   "metadata": {},
   "outputs": [],
   "source": [
    "#Contoh sederhana menghitung luas persegi\n",
    "def detailPersegi(p,l):\n",
    "    luas = p * l\n",
    "    keliling = 2*(p+l)\n",
    "    return luas,keliling\n",
    "\n",
    "detailPersegi(2,4)\n",
    "print(f\"Detail persegi adalah: {detailPersegi}\")\n",
    "print(f\"Luas persegi adalah: {detailPersegi(2,4)[0]}\")\n",
    "print(f\"Keliling persegi adalah: {detailPersegi(2,4)[1]}\")\n",
    "\n",
    "#output dari return yang lebih dari 1 akan dijadikan tuple"
   ]
  },
  {
   "cell_type": "code",
   "execution_count": null,
   "metadata": {},
   "outputs": [],
   "source": [
    "a = 4\n",
    "a"
   ]
  },
  {
   "cell_type": "code",
   "execution_count": null,
   "metadata": {},
   "outputs": [],
   "source": [
    "#Variabel Length Arguments --> untuk kalau parameterny ada banyak\n",
    "# daripada contohFunction(a,b,c,d,e) -- mending contohFunction(a,*parametNameBCDE)\n",
    "#*parametABCDE akan mengeluarkan hasil berupa tuples\n",
    "\n",
    "def kelilingSegi5Sembarang(a,*aspekLain):\n",
    "    hasilTambah = 0\n",
    "    for item in(aspekLain):\n",
    "        hasilTambah += item\n",
    "    keliling = a + hasilTambah\n",
    "    return keliling\n",
    "\n",
    "print(kelilingSegi5Sembarang(1,2,3,4,5))\n",
    "\n"
   ]
  },
  {
   "cell_type": "code",
   "execution_count": null,
   "metadata": {},
   "outputs": [],
   "source": [
    "def person_car(total_data,**keywordArgs) :\n",
    "#duaAsterisk seperti **keywordArgs akan membutuhkan argumen berupa dictionaries\n",
    "    print('Total Data :',total_data)\n",
    "    for key,value in keywordArgs.items():\n",
    "        print('Person :',key)\n",
    "        print('Car: ',value)\n",
    "        print('')\n",
    "\n",
    "person_car(3, jimmy ='chevrolet',frank = 'ford',tina = 'honda')"
   ]
  },
  {
   "cell_type": "code",
   "execution_count": null,
   "metadata": {},
   "outputs": [],
   "source": [
    "kwargs = {\n",
    "    'jimmy' : 'chevrolet',\n",
    "    'frank' : 'ford',\n",
    "    'tina' : 'honda'\n",
    "}\n",
    "print(kwargs.items())\n",
    "#ini adalah hasil dari print dictionary.items()"
   ]
  },
  {
   "cell_type": "markdown",
   "metadata": {},
   "source": [
    "## Lambda"
   ]
  },
  {
   "cell_type": "code",
   "execution_count": null,
   "metadata": {},
   "outputs": [],
   "source": [
    "#Menggunakan lambda sama seperti menggunaan function, misalnya pada contoh\n",
    "penjumlahan = lambda a,b : a+b\n",
    "print(penjumlahan(10,5))\n",
    "\n",
    "#Hasil di atas akan sama hasilnya seperti hasil di bawah\n",
    "def penjumlahanMath(a,b):\n",
    "    return a+b\n",
    "print(\"Hasil penjumlahan a+b menggunakan function adalah: \",penjumlahanMath(10,5))"
   ]
  },
  {
   "cell_type": "code",
   "execution_count": null,
   "metadata": {},
   "outputs": [],
   "source": [
    "# sum = lambda arg1, *arg2 : arg1 + arg2 -- tidak bisa, karena operasi setelah titik dua harus tipe data yang sama\n",
    "# yang bisa menggunakan tuple *arg2 hanya seperti ini\n",
    "sum = lambda arg1,*arg2 : arg1 + arg2[0]\n",
    "print(f\"Hasil penjumlahan adalah {sum(10,20,30,40)}\")"
   ]
  },
  {
   "cell_type": "code",
   "execution_count": null,
   "metadata": {},
   "outputs": [],
   "source": [
    "#Declate global variabel\n",
    "total =0\n",
    "\n",
    "def sum(arg1,arg2):\n",
    "    total = arg1+arg2\n",
    "    print(\"Inside the function local total :\",total)\n",
    "    return total\n",
    "\n",
    "print(\"Outside the function global - before:\",total)\n",
    "total = sum(10,20)\n",
    "print(\"Outside the function global - after:\",total)\n"
   ]
  },
  {
   "cell_type": "markdown",
   "metadata": {},
   "source": [
    "## Package\n",
    "- Mengimport dari file / data lain"
   ]
  },
  {
   "cell_type": "code",
   "execution_count": null,
   "metadata": {},
   "outputs": [],
   "source": [
    "import importlib\n",
    "import person\n",
    "import person_tanpa_return\n",
    "importlib.reload(person)\n",
    "importlib.reload(person_tanpa_return)\n",
    "#jika ada data baru di person , bs diupdate pakai :\n",
    "#importlib.reload(person) -- tapi harus inisiasi import importlib dulu di paling atas\n",
    "print(person.nama)\n",
    "print(person_tanpa_return.devices)\n",
    "person_tanpa_return.display('Mizu')\n",
    "print(person_tanpa_return.nama)\n",
    "\n",
    "\n",
    "\n"
   ]
  },
  {
   "cell_type": "code",
   "execution_count": 7,
   "metadata": {},
   "outputs": [
    {
     "name": "stdout",
     "output_type": "stream",
     "text": [
      "Halo, nama saya : Chizuuu\n",
      "chizu\n"
     ]
    }
   ],
   "source": [
    "#Bisa memanggil variabel/function dalam modul scr spesifik dengan fungsi 'from' , agar tidak perlu panggil nama modul lagi\n",
    "from person import nama\n",
    "from person_tanpa_return import display\n",
    "display('Chizuuu') \n",
    "print(nama)"
   ]
  },
  {
   "cell_type": "markdown",
   "metadata": {},
   "source": [
    "## Package\n",
    "- Import dari folder lain yang ada macem\" .py nya\n"
   ]
  },
  {
   "cell_type": "code",
   "execution_count": null,
   "metadata": {},
   "outputs": [],
   "source": [
    "#Contoh penggunaaan package \n",
    "# import pkg.file1, pkg.file2\n",
    "# print(pkg.file1.hewan)\n",
    "# print(pkg.file2.tumbuhan)\n",
    "\n",
    "# bisa juga seperti ini\n",
    "# from pkg import file1,file2\n",
    "# print(file1.hewan)\n",
    "# print(file2.tumbuhan)\n"
   ]
  },
  {
   "cell_type": "code",
   "execution_count": 8,
   "metadata": {},
   "outputs": [],
   "source": []
  }
 ],
 "metadata": {
  "interpreter": {
   "hash": "3bd9e1803757a9f6b64d1a38fb31ad1020db98b4ae520118c762ef56afaef919"
  },
  "kernelspec": {
   "display_name": "Python 3.9.7 ('base')",
   "language": "python",
   "name": "python3"
  },
  "language_info": {
   "codemirror_mode": {
    "name": "ipython",
    "version": 3
   },
   "file_extension": ".py",
   "mimetype": "text/x-python",
   "name": "python",
   "nbconvert_exporter": "python",
   "pygments_lexer": "ipython3",
   "version": "3.9.7"
  },
  "orig_nbformat": 4
 },
 "nbformat": 4,
 "nbformat_minor": 2
}
